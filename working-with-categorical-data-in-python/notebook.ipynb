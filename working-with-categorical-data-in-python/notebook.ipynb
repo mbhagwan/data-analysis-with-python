{
 "cells": [
  {
   "cell_type": "markdown",
   "metadata": {},
   "source": [
    "## Working with Categorical Data in Python"
   ]
  },
  {
   "cell_type": "code",
   "execution_count": 12,
   "metadata": {},
   "outputs": [],
   "source": [
    "import numpy as np\n",
    "import pandas as pd\n",
    "import matplotlib.pyplot as plt\n",
    "import seaborn as sns\n",
    "pd.options.display.max_columns = 20\n",
    "pd.options.display.max_rows = 20\n",
    "pd.options.display.max_colwidth = 80\n",
    "np.set_printoptions(precision=4, suppress=True)"
   ]
  },
  {
   "cell_type": "markdown",
   "metadata": {},
   "source": [
    "**Seaborn API Reference**"
   ]
  },
  {
   "cell_type": "markdown",
   "metadata": {},
   "source": [
    "**Color palettes:** https://seaborn.pydata.org/tutorial/color_palettes.html"
   ]
  },
  {
   "cell_type": "markdown",
   "metadata": {},
   "source": [
    "### 1. Introduction to Categorical Data"
   ]
  },
  {
   "cell_type": "markdown",
   "metadata": {},
   "source": [
    "#### Introduction"
   ]
  },
  {
   "cell_type": "markdown",
   "metadata": {},
   "source": [
    "The `adult_census_income` dataset contains information on US adults and whether or not  \n",
    "an adult makes over $50,000 annually."
   ]
  },
  {
   "cell_type": "code",
   "execution_count": 13,
   "metadata": {},
   "outputs": [
    {
     "name": "stdout",
     "output_type": "stream",
     "text": [
      "<class 'pandas.core.frame.DataFrame'>\n",
      "RangeIndex: 32561 entries, 0 to 32560\n",
      "Data columns (total 15 columns):\n",
      " #   Column           Non-Null Count  Dtype \n",
      "---  ------           --------------  ----- \n",
      " 0   Age              32561 non-null  int64 \n",
      " 1   Workclass        32561 non-null  object\n",
      " 2   fnlgwt           32561 non-null  int64 \n",
      " 3   Education        32561 non-null  object\n",
      " 4   Education Num    32561 non-null  int64 \n",
      " 5   Marital Status   32561 non-null  object\n",
      " 6   Occupation       32561 non-null  object\n",
      " 7   Relationship     32561 non-null  object\n",
      " 8   Race             32561 non-null  object\n",
      " 9   Sex              32561 non-null  object\n",
      " 10  Capital Gain     32561 non-null  int64 \n",
      " 11  Capital Loss     32561 non-null  int64 \n",
      " 12  Hours/Week       32561 non-null  int64 \n",
      " 13  Country          32561 non-null  object\n",
      " 14  Above/Below 50k  32561 non-null  object\n",
      "dtypes: int64(6), object(9)\n",
      "memory usage: 3.7+ MB\n"
     ]
    }
   ],
   "source": [
    "# Load the dataset\n",
    "adult = pd.read_csv(\"datasets/adult_census_income.csv\")\n",
    "adult.info()"
   ]
  },
  {
   "cell_type": "markdown",
   "metadata": {},
   "source": [
    "#### _Exploring a target variable_"
   ]
  },
  {
   "cell_type": "code",
   "execution_count": 14,
   "metadata": {},
   "outputs": [
    {
     "data": {
      "text/plain": [
       "count      32561\n",
       "unique         2\n",
       "top        <=50K\n",
       "freq       24720\n",
       "Name: Above/Below 50k, dtype: object"
      ]
     },
     "execution_count": 14,
     "metadata": {},
     "output_type": "execute_result"
    }
   ],
   "source": [
    "# Explore the \"Above/Below 50k\" variable\n",
    "adult[\"Above/Below 50k\"].describe()"
   ]
  },
  {
   "cell_type": "code",
   "execution_count": 15,
   "metadata": {},
   "outputs": [
    {
     "data": {
      "text/plain": [
       "Above/Below 50k\n",
       "<=50K    24720\n",
       ">50K      7841\n",
       "Name: count, dtype: int64"
      ]
     },
     "execution_count": 15,
     "metadata": {},
     "output_type": "execute_result"
    }
   ],
   "source": [
    "# Print a frequency table of \"Above/Below 50k\"\n",
    "adult[\"Above/Below 50k\"].value_counts()"
   ]
  },
  {
   "cell_type": "code",
   "execution_count": 16,
   "metadata": {},
   "outputs": [
    {
     "data": {
      "text/plain": [
       "Above/Below 50k\n",
       "<=50K    0.75919\n",
       ">50K     0.24081\n",
       "Name: proportion, dtype: float64"
      ]
     },
     "execution_count": 16,
     "metadata": {},
     "output_type": "execute_result"
    }
   ],
   "source": [
    "# Print the relative frequency values\n",
    "adult[\"Above/Below 50k\"].value_counts(normalize=True)"
   ]
  },
  {
   "cell_type": "markdown",
   "metadata": {},
   "source": [
    "#### Categorical data in pandas"
   ]
  },
  {
   "cell_type": "markdown",
   "metadata": {},
   "source": [
    "#### _Setting dtypes and saving memory_"
   ]
  },
  {
   "cell_type": "code",
   "execution_count": 17,
   "metadata": {},
   "outputs": [
    {
     "name": "stdout",
     "output_type": "stream",
     "text": [
      "series1 data type: object\n",
      "series1 number of bytes: 260488\n"
     ]
    }
   ],
   "source": [
    "# Extract the \"Marital Status\" column from the adult DataFrame\n",
    "series1 = adult[\"Marital Status\"]\n",
    "\n",
    "# Print the data type and number of bytes used by series1\n",
    "print(\"series1 data type:\", series1.dtype)\n",
    "print(\"series1 number of bytes:\", series1.nbytes)"
   ]
  },
  {
   "cell_type": "code",
   "execution_count": 18,
   "metadata": {},
   "outputs": [
    {
     "name": "stdout",
     "output_type": "stream",
     "text": [
      "series2 data type: category\n",
      "series2 number of bytes: 32617\n"
     ]
    }
   ],
   "source": [
    "# Extract the \"Marital Status\" column and change dtype to \"category\"\n",
    "series2 = adult[\"Marital Status\"].astype(\"category\")\n",
    "\n",
    "# Print the data type and number of bytes used by series2\n",
    "print(\"series2 data type:\", series2.dtype)\n",
    "print(\"series2 number of bytes:\", series2.nbytes)  # Note the decrease in memory usage"
   ]
  },
  {
   "cell_type": "markdown",
   "metadata": {},
   "source": [
    "#### _Creating a categorical pandas Series_"
   ]
  },
  {
   "cell_type": "markdown",
   "metadata": {},
   "source": [
    "Use the `medals_won` list to create a categorical `pandas` Series without using `pd.Series()`.  \n",
    "\n",
    "Specify the three known medal categories such that \"Bronze\" < \"Silver\" < \"Gold\". Specify that  \n",
    "\n",
    "the order of the categories is important when creating this Series."
   ]
  },
  {
   "cell_type": "code",
   "execution_count": 19,
   "metadata": {},
   "outputs": [
    {
     "name": "stdout",
     "output_type": "stream",
     "text": [
      "['Gold', 'Gold', 'Bronze', 'Silver', 'Silver', 'Gold', 'Silver', 'Bronze', 'Bronze']\n",
      "Categories (3, object): ['Bronze' < 'Silver' < 'Gold']\n"
     ]
    }
   ],
   "source": [
    "medals_won = [\"Gold\", \"Gold\", \"Bronze\", \"Silver\", \"Silver\", \"Gold\", \"Silver\", \"Bronze\", \"Bronze\"]\n",
    "\n",
    "medals = pd.Categorical(medals_won, categories=[\"Bronze\", \"Silver\", \"Gold\"], ordered=True)\n",
    "\n",
    "print(medals)"
   ]
  },
  {
   "cell_type": "markdown",
   "metadata": {},
   "source": [
    "#### _Setting dtype when reading data_"
   ]
  },
  {
   "cell_type": "markdown",
   "metadata": {},
   "source": [
    "Using the categorical `dtype` will lower the amount of memory required to load a  \n",
    "dataset and boost performance."
   ]
  },
  {
   "cell_type": "code",
   "execution_count": 20,
   "metadata": {},
   "outputs": [
    {
     "data": {
      "text/plain": [
       "Age                 int64\n",
       "Workclass          object\n",
       "fnlgwt              int64\n",
       "Education          object\n",
       "Education Num       int64\n",
       "Marital Status     object\n",
       "Occupation         object\n",
       "Relationship       object\n",
       "Race               object\n",
       "Sex                object\n",
       "Capital Gain        int64\n",
       "Capital Loss        int64\n",
       "Hours/Week          int64\n",
       "Country            object\n",
       "Above/Below 50k    object\n",
       "dtype: object"
      ]
     },
     "execution_count": 20,
     "metadata": {},
     "output_type": "execute_result"
    }
   ],
   "source": [
    "# Review the data types of the \"adult\" DataFrame\n",
    "adult.dtypes"
   ]
  },
  {
   "cell_type": "markdown",
   "metadata": {},
   "source": [
    "Based on the data types in `adult`, the following columns are good candidates for  \n",
    "specifying a `dtype` of \"category\" when reading in the `csv` file:"
   ]
  },
  {
   "cell_type": "markdown",
   "metadata": {},
   "source": [
    "* \"Workclass\"\n",
    "* \"Education\"\n",
    "* \"Relationship\"\n",
    "* \"Above/Below 50k\""
   ]
  },
  {
   "cell_type": "code",
   "execution_count": 21,
   "metadata": {},
   "outputs": [],
   "source": [
    "# Create a dictionary with column names as keys and \"category\" as values\n",
    "adult_dtypes = {\n",
    "    \"Workclass\": \"category\", \n",
    "    \"Education\": \"category\",\n",
    "    \"Relationship\": \"category\",\n",
    "    \"Above/Below 50k\": \"category\"\n",
    "    }"
   ]
  },
  {
   "cell_type": "code",
   "execution_count": 22,
   "metadata": {},
   "outputs": [
    {
     "name": "stdout",
     "output_type": "stream",
     "text": [
      "Age                   int64\n",
      "Workclass          category\n",
      "fnlgwt                int64\n",
      "Education          category\n",
      "Education Num         int64\n",
      "Marital Status       object\n",
      "Occupation           object\n",
      "Relationship       category\n",
      "Race                 object\n",
      "Sex                  object\n",
      "Capital Gain          int64\n",
      "Capital Loss          int64\n",
      "Hours/Week            int64\n",
      "Country              object\n",
      "Above/Below 50k    category\n",
      "dtype: object\n"
     ]
    }
   ],
   "source": [
    "# Read in the \"adult_census_income.csv\" file using the dtype parameter\n",
    "adult2 = pd.read_csv(\"datasets/adult_census_income.csv\", dtype=adult_dtypes)\n",
    "\n",
    "print(adult2.dtypes)"
   ]
  },
  {
   "cell_type": "markdown",
   "metadata": {},
   "source": [
    "#### Grouping data by category in pandas"
   ]
  },
  {
   "cell_type": "markdown",
   "metadata": {},
   "source": [
    "#### _Setting up a .groupby() statement_"
   ]
  },
  {
   "cell_type": "code",
   "execution_count": 23,
   "metadata": {},
   "outputs": [
    {
     "name": "stdout",
     "output_type": "stream",
     "text": [
      "Sex     Above/Below 50k\n",
      "Female  <=50K               9592\n",
      "        >50K                1179\n",
      "Male    <=50K              15128\n",
      "        >50K                6662\n",
      "dtype: int64\n",
      "Sex     Above/Below 50k\n",
      "Female  <=50K              36.210801\n",
      "        >50K               42.125530\n",
      "Male    <=50K              37.147012\n",
      "        >50K               44.625788\n",
      "Name: Age, dtype: float64\n"
     ]
    }
   ],
   "source": [
    "# Group the adult dataset by \"Sex\" and \"Above/Below 50k\"\n",
    "gb = adult.groupby(by=[\"Sex\", \"Above/Below 50k\"])\n",
    "\n",
    "# Print the number of observations in each group\n",
    "print(gb.size())\n",
    "\n",
    "# Print out the mean age of each group\n",
    "print(gb[\"Age\"].mean())"
   ]
  },
  {
   "cell_type": "markdown",
   "metadata": {},
   "source": [
    "#### _Using pandas functions effectively_"
   ]
  },
  {
   "cell_type": "markdown",
   "metadata": {},
   "source": [
    "It's important to select your variables before calling a function. Large datasets  \n",
    "might have problems calculating the mean of every numerical column."
   ]
  },
  {
   "cell_type": "code",
   "execution_count": 24,
   "metadata": {},
   "outputs": [
    {
     "name": "stdout",
     "output_type": "stream",
     "text": [
      "Education     Above/Below 50k\n",
      "10th          <=50K              36.574053\n",
      "              >50K               43.774194\n",
      "11th          <=50K              33.322870\n",
      "              >50K               45.133333\n",
      "12th          <=50K              35.035000\n",
      "                                   ...    \n",
      "Preschool     <=50K              36.647059\n",
      "Prof-school   <=50K              42.816993\n",
      "              >50K               49.092199\n",
      "Some-college  <=50K              37.450203\n",
      "              >50K               44.820476\n",
      "Name: Hours/Week, Length: 31, dtype: float64\n"
     ]
    }
   ],
   "source": [
    "# Create a list of user-selected variables\n",
    "user_list = [\"Education\", \"Above/Below 50k\"]\n",
    "\n",
    "# Create a groupby object using this list\n",
    "gb = adult.groupby(by=user_list)\n",
    "\n",
    "# Find the mean of \"Hours/Week\" across each group\n",
    "print(gb[\"Hours/Week\"].mean())"
   ]
  },
  {
   "cell_type": "markdown",
   "metadata": {},
   "source": [
    "### 2. Categorical pandas Series"
   ]
  },
  {
   "cell_type": "markdown",
   "metadata": {},
   "source": [
    "##### The .cat accessor object "
   ]
  },
  {
   "cell_type": "markdown",
   "metadata": {},
   "source": [
    "* `Series.cat.method_name`"
   ]
  },
  {
   "cell_type": "markdown",
   "metadata": {},
   "source": [
    "##### _Method names_"
   ]
  },
  {
   "cell_type": "markdown",
   "metadata": {},
   "source": [
    "* Setting: `cat.set_categories()`\n",
    "    * Can be used to set the order of categories\n",
    "    * All values not specified in this method are dropped"
   ]
  },
  {
   "cell_type": "markdown",
   "metadata": {},
   "source": [
    "* Adding: `cat.add_categories()`\n",
    "    * Does not change the value of any data in the DataFrame\n",
    "    * Categories not listed in this method are left alone"
   ]
  },
  {
   "cell_type": "markdown",
   "metadata": {},
   "source": [
    "* Removing: `cat.remove_categories()`\n",
    "    * Values matching categories listed are set to `NaN`"
   ]
  },
  {
   "cell_type": "markdown",
   "metadata": {},
   "source": [
    "* Renaming: `cat.rename_categories(new_categories=dict)`\n",
    "    * Must use new category names (i.e. an existing name cannot be used)\n",
    "    * Cannot collapse two categories into one"
   ]
  },
  {
   "cell_type": "code",
   "execution_count": 25,
   "metadata": {},
   "outputs": [
    {
     "name": "stdout",
     "output_type": "stream",
     "text": [
      "<class 'pandas.core.frame.DataFrame'>\n",
      "RangeIndex: 2937 entries, 0 to 2936\n",
      "Data columns (total 19 columns):\n",
      " #   Column             Non-Null Count  Dtype  \n",
      "---  ------             --------------  -----  \n",
      " 0   ID                 2937 non-null   int64  \n",
      " 1   name               2845 non-null   object \n",
      " 2   age                2937 non-null   float64\n",
      " 3   sex                2937 non-null   object \n",
      " 4   breed              2937 non-null   object \n",
      " 5   date_found         2937 non-null   object \n",
      " 6   adoptable_from     2937 non-null   object \n",
      " 7   posted             2937 non-null   object \n",
      " 8   color              2937 non-null   object \n",
      " 9   coat               2937 non-null   object \n",
      " 10  size               2937 non-null   object \n",
      " 11  neutered           1852 non-null   object \n",
      " 12  housebroken        460 non-null    object \n",
      " 13  likes_people       1999 non-null   object \n",
      " 14  likes_children     1219 non-null   object \n",
      " 15  get_along_males    1633 non-null   object \n",
      " 16  get_along_females  1673 non-null   object \n",
      " 17  get_along_cats     431 non-null    object \n",
      " 18  keep_in            1916 non-null   object \n",
      "dtypes: float64(1), int64(1), object(17)\n",
      "memory usage: 436.1+ KB\n"
     ]
    }
   ],
   "source": [
    "# Load dataset containing information on adoptable dogs\n",
    "dogs = pd.read_csv(\"datasets/adoptable_dogs.csv\")\n",
    "dogs.info()"
   ]
  },
  {
   "cell_type": "markdown",
   "metadata": {},
   "source": [
    "#### Setting category variables"
   ]
  },
  {
   "cell_type": "markdown",
   "metadata": {},
   "source": [
    "#### _Setting categories_"
   ]
  },
  {
   "cell_type": "markdown",
   "metadata": {},
   "source": [
    "Convert the `size` column from the `dogs` dataset into an ordered categorical pandas  \n",
    "Series with the following categories: `[\"small\", \"medium\", \"large\"]`"
   ]
  },
  {
   "cell_type": "code",
   "execution_count": 26,
   "metadata": {},
   "outputs": [
    {
     "data": {
      "text/plain": [
       "0     small\n",
       "1     small\n",
       "2    medium\n",
       "Name: size, dtype: category\n",
       "Categories (3, object): ['small' < 'medium' < 'large']"
      ]
     },
     "execution_count": 26,
     "metadata": {},
     "output_type": "execute_result"
    }
   ],
   "source": [
    "# Convert the Series dtype\n",
    "dogs[\"size\"] = dogs[\"size\"].astype(\"category\")\n",
    "\n",
    "# Set ordered categories\n",
    "dogs[\"size\"] = dogs[\"size\"].cat.set_categories([\"small\", \"medium\", \"large\"], ordered=True)\n",
    "\n",
    "dogs[\"size\"].head(3)"
   ]
  },
  {
   "cell_type": "markdown",
   "metadata": {},
   "source": [
    "#### _Adding categories_"
   ]
  },
  {
   "cell_type": "code",
   "execution_count": 27,
   "metadata": {},
   "outputs": [
    {
     "data": {
      "text/plain": [
       "keep_in\n",
       "both flat and garden    1224\n",
       "NaN                     1021\n",
       "garden                   510\n",
       "flat                     182\n",
       "Name: count, dtype: int64"
      ]
     },
     "execution_count": 27,
     "metadata": {},
     "output_type": "execute_result"
    }
   ],
   "source": [
    "# Print the frequency of the responses in the \"keep_in\" variable, including NaN values\n",
    "dogs[\"keep_in\"].value_counts(dropna=False)"
   ]
  },
  {
   "cell_type": "code",
   "execution_count": 28,
   "metadata": {},
   "outputs": [],
   "source": [
    "# Convert the \"keep_in\" variable to a categorical series\n",
    "dogs[\"keep_in\"] = dogs[\"keep_in\"].astype(\"category\")"
   ]
  },
  {
   "cell_type": "code",
   "execution_count": 29,
   "metadata": {},
   "outputs": [
    {
     "data": {
      "text/plain": [
       "keep_in\n",
       "both flat and garden       1224\n",
       "NaN                        1021\n",
       "garden                      510\n",
       "flat                        182\n",
       "Unknown History               0\n",
       "Open Yard (Countryside)       0\n",
       "Name: count, dtype: int64"
      ]
     },
     "execution_count": 29,
     "metadata": {},
     "output_type": "execute_result"
    }
   ],
   "source": [
    "# Add \"new_categories\" to the \"keep_in\" column\n",
    "new_categories = [\"Unknown History\", \"Open Yard (Countryside)\"]\n",
    "dogs[\"keep_in\"] = dogs[\"keep_in\"].cat.add_categories(new_categories)\n",
    "\n",
    "# Print frequency counts of the \"keep_in\" column, including NaN values\n",
    "dogs[\"keep_in\"].value_counts(dropna=False)"
   ]
  },
  {
   "cell_type": "markdown",
   "metadata": {},
   "source": [
    "#### _Removing categories_"
   ]
  },
  {
   "cell_type": "code",
   "execution_count": 30,
   "metadata": {},
   "outputs": [
    {
     "data": {
      "text/plain": [
       "Index(['long', 'medium', 'short', 'wirehaired'], dtype='object')"
      ]
     },
     "execution_count": 30,
     "metadata": {},
     "output_type": "execute_result"
    }
   ],
   "source": [
    "# Convert Series dtype to category\n",
    "dogs[\"coat\"] = dogs[\"coat\"].astype(\"category\")\n",
    "\n",
    "# Print out categories\n",
    "dogs[\"coat\"].cat.categories"
   ]
  },
  {
   "cell_type": "code",
   "execution_count": 31,
   "metadata": {},
   "outputs": [
    {
     "data": {
      "text/plain": [
       "coat\n",
       "short         1972\n",
       "medium         565\n",
       "wirehaired     220\n",
       "long           180\n",
       "Name: count, dtype: int64"
      ]
     },
     "execution_count": 31,
     "metadata": {},
     "output_type": "execute_result"
    }
   ],
   "source": [
    "# Print the frequency table\n",
    "dogs[\"coat\"].value_counts()"
   ]
  },
  {
   "cell_type": "code",
   "execution_count": 32,
   "metadata": {},
   "outputs": [
    {
     "data": {
      "text/plain": [
       "Index(['long', 'medium', 'short'], dtype='object')"
      ]
     },
     "execution_count": 32,
     "metadata": {},
     "output_type": "execute_result"
    }
   ],
   "source": [
    "# Remove the \"wirehaired\" category\n",
    "dogs[\"coat\"] = dogs[\"coat\"].cat.remove_categories([\"wirehaired\"])\n",
    "\n",
    "# Print out categories to check\n",
    "dogs[\"coat\"].cat.categories"
   ]
  },
  {
   "cell_type": "markdown",
   "metadata": {},
   "source": [
    "#### Updating categories"
   ]
  },
  {
   "cell_type": "markdown",
   "metadata": {},
   "source": [
    "#### _Renaming categories_"
   ]
  },
  {
   "cell_type": "code",
   "execution_count": 33,
   "metadata": {},
   "outputs": [
    {
     "data": {
      "text/plain": [
       "Index(['apricot', 'black', 'black and brown', 'black and tan',\n",
       "       'black and white', 'brown', 'brown and white', 'dotted', 'golden',\n",
       "       'gray', 'gray and black', 'gray and white', 'red', 'red and white',\n",
       "       'sable', 'saddle back', 'spotty', 'striped', 'tricolor', 'white',\n",
       "       'wild boar', 'yellow', 'yellow-brown'],\n",
       "      dtype='object')"
      ]
     },
     "execution_count": 33,
     "metadata": {},
     "output_type": "execute_result"
    }
   ],
   "source": [
    "# Convert column to 'category' dtype and display categories\n",
    "dogs[\"color\"] = dogs[\"color\"].astype(\"category\")\n",
    "dogs[\"color\"].cat.categories"
   ]
  },
  {
   "cell_type": "code",
   "execution_count": 34,
   "metadata": {},
   "outputs": [
    {
     "data": {
      "text/plain": [
       "Index(['APRICOT', 'BLACK', 'BLACK/BROWN', 'BLACK/TAN', 'BLACK/WHITE', 'BROWN',\n",
       "       'BROWN AND WHITE', 'DOTTED', 'GOLDEN', 'GRAY', 'GRAY AND BLACK',\n",
       "       'GRAY AND WHITE', 'RED', 'RED AND WHITE', 'SABLE', 'SADDLE BACK',\n",
       "       'SPOTTY', 'STRIPED', 'TRICOLOR', 'WHITE', 'WILD BOAR', 'YELLOW',\n",
       "       'YELLOW-BROWN'],\n",
       "      dtype='object')"
      ]
     },
     "execution_count": 34,
     "metadata": {},
     "output_type": "execute_result"
    }
   ],
   "source": [
    "# Create a dictionary to update categories\n",
    "my_changes = {\n",
    "    \"black and brown\": \"black/brown\",\n",
    "    \"black and tan\": \"black/tan\",\n",
    "    \"black and white\": \"black/white\"\n",
    "}\n",
    "\n",
    "# Rename the categories in the 'color' column\n",
    "dogs[\"color\"] = dogs[\"color\"].cat.rename_categories(my_changes)\n",
    "\n",
    "# Use a lambda funtion to convert all categories to uppercase\n",
    "dogs[\"color\"] = dogs[\"color\"].cat.rename_categories(lambda c: c.upper())\n",
    "\n",
    "# Print the list of categories\n",
    "dogs[\"color\"].cat.categories"
   ]
  },
  {
   "cell_type": "markdown",
   "metadata": {},
   "source": [
    "#### _Collapsing categories_"
   ]
  },
  {
   "cell_type": "code",
   "execution_count": 35,
   "metadata": {},
   "outputs": [
    {
     "data": {
      "text/plain": [
       "Index(['APRICOT', 'BLACK', 'BLACK/BROWN', 'BLACK/TAN', 'BLACK/WHITE', 'BROWN',\n",
       "       'BROWN AND WHITE', 'DOTTED', 'GOLDEN', 'GRAY', 'GRAY AND BLACK',\n",
       "       'GRAY AND WHITE', 'RED', 'RED AND WHITE', 'SABLE', 'SADDLE BACK',\n",
       "       'SPOTTY', 'STRIPED', 'TRICOLOR', 'WHITE', 'WILD BOAR', 'YELLOW',\n",
       "       'YELLOW-BROWN'],\n",
       "      dtype='object')"
      ]
     },
     "execution_count": 35,
     "metadata": {},
     "output_type": "execute_result"
    }
   ],
   "source": [
    "# List the 'color' categories\n",
    "dogs[\"color\"].cat.categories"
   ]
  },
  {
   "cell_type": "code",
   "execution_count": 36,
   "metadata": {},
   "outputs": [
    {
     "name": "stderr",
     "output_type": "stream",
     "text": [
      "C:\\Users\\mrlbh\\AppData\\Local\\Temp\\ipykernel_2308\\41126766.py:8: FutureWarning: The behavior of Series.replace (and DataFrame.replace) with CategoricalDtype is deprecated. In a future version, replace will only be used for cases that preserve the categories. To change the categories, use ser.cat.rename_categories instead.\n",
      "  dogs[\"color collapsed\"] = dogs[\"color\"].replace(update_colors)\n"
     ]
    },
    {
     "data": {
      "text/plain": [
       "Index(['APRICOT', 'BLACK', 'BLACK/BROWN', 'BLACK/TAN', 'BLACK/WHITE', 'BROWN',\n",
       "       'BROWN AND WHITE', 'DOTTED', 'GOLDEN', 'GRAY', 'RED', 'RED AND WHITE',\n",
       "       'SABLE', 'SADDLE BACK', 'SPOTTY', 'STRIPED', 'TRICOLOR', 'WHITE',\n",
       "       'WILD BOAR', 'YELLOW', 'YELLOW-BROWN'],\n",
       "      dtype='object')"
      ]
     },
     "execution_count": 36,
     "metadata": {},
     "output_type": "execute_result"
    }
   ],
   "source": [
    "# Create a dictionary to map colors\n",
    "update_colors = {\n",
    "    \"GRAY AND BLACK\": \"GRAY\",\n",
    "    \"GRAY AND WHITE\": \"GRAY\"\n",
    "}\n",
    "\n",
    "# Create a new updated column\n",
    "dogs[\"color collapsed\"] = dogs[\"color\"].replace(update_colors)\n",
    "\n",
    "# Convert the column to categorical\n",
    "dogs[\"color collapsed\"].astype(\"category\")\n",
    "\n",
    "# Print the list of categories\n",
    "dogs[\"color collapsed\"].cat.categories"
   ]
  },
  {
   "cell_type": "markdown",
   "metadata": {},
   "source": [
    "#### Reordering categories"
   ]
  },
  {
   "cell_type": "markdown",
   "metadata": {},
   "source": [
    "#### _Reordering categories in a Series_"
   ]
  },
  {
   "cell_type": "code",
   "execution_count": 37,
   "metadata": {},
   "outputs": [
    {
     "data": {
      "text/plain": [
       "Index(['small', 'medium', 'large'], dtype='object')"
      ]
     },
     "execution_count": 37,
     "metadata": {},
     "output_type": "execute_result"
    }
   ],
   "source": [
    "# Save the 'dogs' dataset 'size' variable to categorical\n",
    "dogs[\"size\"] = dogs[\"size\"].astype(\"category\")\n",
    "dogs[\"size\"].cat.categories"
   ]
  },
  {
   "cell_type": "code",
   "execution_count": 38,
   "metadata": {},
   "outputs": [],
   "source": [
    "# Reorder categories in the 'size' column, do not set the 'ordered' parameter\n",
    "dogs[\"size\"] = dogs[\"size\"].cat.reorder_categories(new_categories=[\"small\", \"medium\", \"large\"])"
   ]
  },
  {
   "cell_type": "code",
   "execution_count": 39,
   "metadata": {},
   "outputs": [
    {
     "data": {
      "text/plain": [
       "Index(['small', 'medium', 'large'], dtype='object')"
      ]
     },
     "execution_count": 39,
     "metadata": {},
     "output_type": "execute_result"
    }
   ],
   "source": [
    "# Update the reorder_categories() method, specifying the Series is ordinal\n",
    "dogs[\"size\"] = dogs[\"size\"].cat.reorder_categories(\n",
    "    new_categories=[\"small\", \"medium\", \"large\"], ordered=True\n",
    ")\n",
    "\n",
    "dogs[\"size\"].cat.categories"
   ]
  },
  {
   "cell_type": "markdown",
   "metadata": {},
   "source": [
    "#### _Using .groupby() after reordering_"
   ]
  },
  {
   "cell_type": "markdown",
   "metadata": {},
   "source": [
    "... continuing from the previous code"
   ]
  },
  {
   "cell_type": "code",
   "execution_count": 40,
   "metadata": {},
   "outputs": [
    {
     "data": {
      "text/plain": [
       "size    sex   \n",
       "small   male       260\n",
       "        female     214\n",
       "medium  male      1090\n",
       "        female     854\n",
       "large   male       331\n",
       "        female     188\n",
       "Name: count, dtype: int64"
      ]
     },
     "execution_count": 40,
     "metadata": {},
     "output_type": "execute_result"
    }
   ],
   "source": [
    "# How many Male/Female dogs are available of each size?\n",
    "dogs.groupby(by=\"size\", observed=True)[\"sex\"].value_counts()"
   ]
  },
  {
   "cell_type": "code",
   "execution_count": 41,
   "metadata": {},
   "outputs": [
    {
     "data": {
      "text/plain": [
       "size    keep_in                \n",
       "small   both flat and garden       238\n",
       "        flat                        80\n",
       "        garden                      21\n",
       "        Unknown History              0\n",
       "        Open Yard (Countryside)      0\n",
       "medium  both flat and garden       795\n",
       "        garden                     317\n",
       "        flat                        97\n",
       "        Unknown History              0\n",
       "        Open Yard (Countryside)      0\n",
       "large   both flat and garden       191\n",
       "        garden                     172\n",
       "        flat                         5\n",
       "        Unknown History              0\n",
       "        Open Yard (Countryside)      0\n",
       "Name: count, dtype: int64"
      ]
     },
     "execution_count": 41,
     "metadata": {},
     "output_type": "execute_result"
    }
   ],
   "source": [
    "# Do larger dogs need more room to move?\n",
    "dogs.groupby(by=\"size\", observed=True)[\"keep_in\"].value_counts()"
   ]
  },
  {
   "cell_type": "markdown",
   "metadata": {},
   "source": [
    "#### Cleaning and accessing data"
   ]
  },
  {
   "cell_type": "markdown",
   "metadata": {},
   "source": [
    "#### _Cleaning variables_"
   ]
  },
  {
   "cell_type": "code",
   "execution_count": 42,
   "metadata": {},
   "outputs": [
    {
     "data": {
      "text/plain": [
       "Index([' Amer-Indian-Eskimo', ' Asian-Pac-Islander', ' Black', ' Other',\n",
       "       ' White'],\n",
       "      dtype='object')"
      ]
     },
     "execution_count": 42,
     "metadata": {},
     "output_type": "execute_result"
    }
   ],
   "source": [
    "adult[\"Race\"] = adult[\"Race\"].astype(\"category\")\n",
    "adult[\"Race\"].cat.categories"
   ]
  },
  {
   "cell_type": "code",
   "execution_count": 43,
   "metadata": {},
   "outputs": [
    {
     "data": {
      "text/plain": [
       "Race\n",
       "White                 27816\n",
       "Black                  3124\n",
       "Asian-Pac-Islander     1039\n",
       "Amer-Indian-Eskimo      311\n",
       "Other                   271\n",
       "Name: count, dtype: int64"
      ]
     },
     "execution_count": 43,
     "metadata": {},
     "output_type": "execute_result"
    }
   ],
   "source": [
    "# Update 'Black' and 'White' race categories\n",
    "replace_map = {\n",
    "    \"Black\": \"Amer-Black\",\n",
    "    \"White\": \"Amer-White\"\n",
    "}\n",
    "\n",
    "adult[\"Race\"] = adult[\"Race\"].replace(replace_map)\n",
    "adult[\"Race\"].value_counts()"
   ]
  },
  {
   "cell_type": "code",
   "execution_count": 44,
   "metadata": {},
   "outputs": [
    {
     "data": {
      "text/plain": [
       "Race\n",
       "WHITE                 27816\n",
       "BLACK                  3124\n",
       "ASIAN-PAC-ISLANDER     1039\n",
       "AMER-INDIAN-ESKIMO      311\n",
       "OTHER                   271\n",
       "Name: count, dtype: int64"
      ]
     },
     "execution_count": 44,
     "metadata": {},
     "output_type": "execute_result"
    }
   ],
   "source": [
    "# Convert all race categories to uppercase\n",
    "adult[\"Race\"] = adult[\"Race\"].str.upper()\n",
    "\n",
    "adult[\"Race\"].value_counts()"
   ]
  },
  {
   "cell_type": "markdown",
   "metadata": {},
   "source": [
    "#### _Accessing and filtering data_"
   ]
  },
  {
   "cell_type": "code",
   "execution_count": 45,
   "metadata": {},
   "outputs": [
    {
     "data": {
      "text/plain": [
       "breed    category\n",
       "size     category\n",
       "coat     category\n",
       "dtype: object"
      ]
     },
     "execution_count": 45,
     "metadata": {},
     "output_type": "execute_result"
    }
   ],
   "source": [
    "# Set the 'ID' variable as the index of the 'dogs' DataFrame\n",
    "dogs = dogs.set_index(\"ID\")\n",
    "\n",
    "# Set 'breed', 'size', and 'coat' as categorical variables\n",
    "dogs[[\"breed\", \"size\", \"coat\"]] = dogs[[\"breed\", \"size\", \"coat\"]].astype(\"category\")\n",
    "dogs[[\"breed\", \"size\", \"coat\"]].dtypes"
   ]
  },
  {
   "cell_type": "code",
   "execution_count": 46,
   "metadata": {},
   "outputs": [
    {
     "data": {
      "text/html": [
       "<div>\n",
       "<style scoped>\n",
       "    .dataframe tbody tr th:only-of-type {\n",
       "        vertical-align: middle;\n",
       "    }\n",
       "\n",
       "    .dataframe tbody tr th {\n",
       "        vertical-align: top;\n",
       "    }\n",
       "\n",
       "    .dataframe thead th {\n",
       "        text-align: right;\n",
       "    }\n",
       "</style>\n",
       "<table border=\"1\" class=\"dataframe\">\n",
       "  <thead>\n",
       "    <tr style=\"text-align: right;\">\n",
       "      <th></th>\n",
       "      <th>name</th>\n",
       "      <th>age</th>\n",
       "      <th>sex</th>\n",
       "      <th>breed</th>\n",
       "      <th>date_found</th>\n",
       "      <th>adoptable_from</th>\n",
       "      <th>posted</th>\n",
       "      <th>color</th>\n",
       "      <th>coat</th>\n",
       "      <th>size</th>\n",
       "      <th>neutered</th>\n",
       "      <th>housebroken</th>\n",
       "      <th>likes_people</th>\n",
       "      <th>likes_children</th>\n",
       "      <th>get_along_males</th>\n",
       "      <th>get_along_females</th>\n",
       "      <th>get_along_cats</th>\n",
       "      <th>keep_in</th>\n",
       "      <th>color collapsed</th>\n",
       "    </tr>\n",
       "    <tr>\n",
       "      <th>ID</th>\n",
       "      <th></th>\n",
       "      <th></th>\n",
       "      <th></th>\n",
       "      <th></th>\n",
       "      <th></th>\n",
       "      <th></th>\n",
       "      <th></th>\n",
       "      <th></th>\n",
       "      <th></th>\n",
       "      <th></th>\n",
       "      <th></th>\n",
       "      <th></th>\n",
       "      <th></th>\n",
       "      <th></th>\n",
       "      <th></th>\n",
       "      <th></th>\n",
       "      <th></th>\n",
       "      <th></th>\n",
       "      <th></th>\n",
       "    </tr>\n",
       "  </thead>\n",
       "  <tbody>\n",
       "    <tr>\n",
       "      <th>23807</th>\n",
       "      <td>Gida</td>\n",
       "      <td>0.25</td>\n",
       "      <td>female</td>\n",
       "      <td>Unknown Mix</td>\n",
       "      <td>12/10/19</td>\n",
       "      <td>12/11/19</td>\n",
       "      <td>12/11/19</td>\n",
       "      <td>RED</td>\n",
       "      <td>short</td>\n",
       "      <td>small</td>\n",
       "      <td>no</td>\n",
       "      <td>NaN</td>\n",
       "      <td>NaN</td>\n",
       "      <td>NaN</td>\n",
       "      <td>NaN</td>\n",
       "      <td>NaN</td>\n",
       "      <td>NaN</td>\n",
       "      <td>NaN</td>\n",
       "      <td>RED</td>\n",
       "    </tr>\n",
       "    <tr>\n",
       "      <th>533</th>\n",
       "      <td>Frida És Ricsi</td>\n",
       "      <td>0.17</td>\n",
       "      <td>female</td>\n",
       "      <td>Unknown Mix</td>\n",
       "      <td>12/1/19</td>\n",
       "      <td>12/1/19</td>\n",
       "      <td>12/9/19</td>\n",
       "      <td>BLACK/WHITE</td>\n",
       "      <td>short</td>\n",
       "      <td>small</td>\n",
       "      <td>no</td>\n",
       "      <td>NaN</td>\n",
       "      <td>yes</td>\n",
       "      <td>yes</td>\n",
       "      <td>yes</td>\n",
       "      <td>yes</td>\n",
       "      <td>yes</td>\n",
       "      <td>NaN</td>\n",
       "      <td>BLACK/WHITE</td>\n",
       "    </tr>\n",
       "    <tr>\n",
       "      <th>23793</th>\n",
       "      <td>NaN</td>\n",
       "      <td>4.00</td>\n",
       "      <td>male</td>\n",
       "      <td>Unknown Mix</td>\n",
       "      <td>12/8/19</td>\n",
       "      <td>12/23/19</td>\n",
       "      <td>12/8/19</td>\n",
       "      <td>SADDLE BACK</td>\n",
       "      <td>short</td>\n",
       "      <td>medium</td>\n",
       "      <td>no</td>\n",
       "      <td>NaN</td>\n",
       "      <td>NaN</td>\n",
       "      <td>NaN</td>\n",
       "      <td>NaN</td>\n",
       "      <td>NaN</td>\n",
       "      <td>NaN</td>\n",
       "      <td>NaN</td>\n",
       "      <td>SADDLE BACK</td>\n",
       "    </tr>\n",
       "  </tbody>\n",
       "</table>\n",
       "</div>"
      ],
      "text/plain": [
       "                 name   age     sex        breed date_found adoptable_from  \\\n",
       "ID                                                                           \n",
       "23807            Gida  0.25  female  Unknown Mix   12/10/19       12/11/19   \n",
       "533    Frida És Ricsi  0.17  female  Unknown Mix    12/1/19        12/1/19   \n",
       "23793             NaN  4.00    male  Unknown Mix    12/8/19       12/23/19   \n",
       "\n",
       "         posted        color   coat    size neutered housebroken likes_people  \\\n",
       "ID                                                                              \n",
       "23807  12/11/19          RED  short   small       no         NaN          NaN   \n",
       "533     12/9/19  BLACK/WHITE  short   small       no         NaN          yes   \n",
       "23793   12/8/19  SADDLE BACK  short  medium       no         NaN          NaN   \n",
       "\n",
       "      likes_children get_along_males get_along_females get_along_cats keep_in  \\\n",
       "ID                                                                              \n",
       "23807            NaN             NaN               NaN            NaN     NaN   \n",
       "533              yes             yes               yes            yes     NaN   \n",
       "23793            NaN             NaN               NaN            NaN     NaN   \n",
       "\n",
       "      color collapsed  \n",
       "ID                     \n",
       "23807             RED  \n",
       "533       BLACK/WHITE  \n",
       "23793     SADDLE BACK  "
      ]
     },
     "execution_count": 46,
     "metadata": {},
     "output_type": "execute_result"
    }
   ],
   "source": [
    "# Preview 'dogs' DataFrame\n",
    "dogs.head(3)"
   ]
  },
  {
   "cell_type": "code",
   "execution_count": 47,
   "metadata": {},
   "outputs": [
    {
     "data": {
      "text/plain": [
       "'short'"
      ]
     },
     "execution_count": 47,
     "metadata": {},
     "output_type": "execute_result"
    }
   ],
   "source": [
    "# Print the category of the coat for ID 23807\n",
    "dogs.loc[23807, \"coat\"]"
   ]
  },
  {
   "cell_type": "code",
   "execution_count": 48,
   "metadata": {},
   "outputs": [
    {
     "data": {
      "text/plain": [
       "sex\n",
       "male      124\n",
       "female     56\n",
       "Name: count, dtype: int64"
      ]
     },
     "execution_count": 48,
     "metadata": {},
     "output_type": "execute_result"
    }
   ],
   "source": [
    "# Find the count of male and female dogs with a 'long' coat\n",
    "dogs.loc[dogs[\"coat\"] == \"long\", \"sex\"].value_counts()"
   ]
  },
  {
   "cell_type": "code",
   "execution_count": 49,
   "metadata": {},
   "outputs": [
    {
     "data": {
      "text/plain": [
       "8.186153846153847"
      ]
     },
     "execution_count": 49,
     "metadata": {},
     "output_type": "execute_result"
    }
   ],
   "source": [
    "# Print the mean age of dogs of the \"English Cocker Spaniel\" breed\n",
    "dogs.loc[dogs[\"breed\"] == \"English Cocker Spaniel\", \"age\"].mean()"
   ]
  },
  {
   "cell_type": "code",
   "execution_count": 50,
   "metadata": {},
   "outputs": [
    {
     "data": {
      "text/plain": [
       "35"
      ]
     },
     "execution_count": 50,
     "metadata": {},
     "output_type": "execute_result"
    }
   ],
   "source": [
    "# Count the number of dogs with 'English' in their 'breed' name\n",
    "dogs[dogs[\"breed\"].str.contains(\"English\", regex=False)].shape[0]"
   ]
  },
  {
   "cell_type": "markdown",
   "metadata": {},
   "source": [
    "### 3. Visualizing Categorical Data"
   ]
  },
  {
   "cell_type": "markdown",
   "metadata": {},
   "source": [
    "#### Introduction to categorical plots using Seaborn"
   ]
  },
  {
   "cell_type": "markdown",
   "metadata": {},
   "source": [
    "The Las Vegas TripAdvisor reviews dataset contains information on 504 reviews  \n",
    "from 21 hotels in Las Vegas collected in 2015."
   ]
  },
  {
   "cell_type": "code",
   "execution_count": 51,
   "metadata": {},
   "outputs": [
    {
     "name": "stdout",
     "output_type": "stream",
     "text": [
      "<class 'pandas.core.frame.DataFrame'>\n",
      "RangeIndex: 504 entries, 0 to 503\n",
      "Data columns (total 20 columns):\n",
      " #   Column             Non-Null Count  Dtype \n",
      "---  ------             --------------  ----- \n",
      " 0   User country       504 non-null    object\n",
      " 1   Nr. reviews        504 non-null    int64 \n",
      " 2   Nr. hotel reviews  504 non-null    int64 \n",
      " 3   Helpful votes      504 non-null    int64 \n",
      " 4   Score              504 non-null    int64 \n",
      " 5   Period of stay     504 non-null    object\n",
      " 6   Traveler type      504 non-null    object\n",
      " 7   Pool               504 non-null    object\n",
      " 8   Gym                504 non-null    object\n",
      " 9   Tennis court       504 non-null    object\n",
      " 10  Spa                504 non-null    object\n",
      " 11  Casino             504 non-null    object\n",
      " 12  Free internet      504 non-null    object\n",
      " 13  Hotel name         504 non-null    object\n",
      " 14  Hotel stars        504 non-null    int64 \n",
      " 15  Nr. rooms          504 non-null    int64 \n",
      " 16  User continent     504 non-null    object\n",
      " 17  Member years       504 non-null    int64 \n",
      " 18  Review month       504 non-null    object\n",
      " 19  Review weekday     504 non-null    object\n",
      "dtypes: int64(7), object(13)\n",
      "memory usage: 78.9+ KB\n"
     ]
    }
   ],
   "source": [
    "reviews = pd.read_csv(\"datasets/tripadvisor_reviews.csv\")\n",
    "reviews.info()"
   ]
  },
  {
   "cell_type": "markdown",
   "metadata": {},
   "source": [
    "#### _Creating a box plot_"
   ]
  },
  {
   "cell_type": "code",
   "execution_count": 52,
   "metadata": {},
   "outputs": [
    {
     "data": {
      "image/png": "[encoded data removed]",
      "text/plain": [
       "<Figure size 515.278x500 with 1 Axes>"
      ]
     },
     "metadata": {},
     "output_type": "display_data"
    }
   ],
   "source": [
    "# Set the font size and background\n",
    "sns.set(font_scale=1.25)\n",
    "sns.set_style(\"darkgrid\")\n",
    "\n",
    "# Which 'Traveler type' has left the most 'Helpful' reviews?\n",
    "sns.catplot(\n",
    "    x=\"Traveler type\",\n",
    "    y=\"Helpful votes\",\n",
    "    data=reviews,\n",
    "    kind=\"box\"\n",
    ")\n",
    "\n",
    "plt.show()"
   ]
  },
  {
   "cell_type": "markdown",
   "metadata": {},
   "source": [
    "#### Seaborn bar plots"
   ]
  },
  {
   "cell_type": "markdown",
   "metadata": {},
   "source": [
    "#### _Creating a bar plot_"
   ]
  },
  {
   "cell_type": "code",
   "execution_count": 53,
   "metadata": {},
   "outputs": [
    {
     "data": {
      "text/plain": [
       "Period of stay\n",
       "Mar-May    128\n",
       "Jun-Aug    126\n",
       "Sep-Nov    126\n",
       "Dec-Feb    124\n",
       "Name: count, dtype: int64"
      ]
     },
     "execution_count": 53,
     "metadata": {},
     "output_type": "execute_result"
    }
   ],
   "source": [
    "# Print the frequency counts of 'Period of stay'\n",
    "reviews[\"Period of stay\"].value_counts()"
   ]
  },
  {
   "cell_type": "code",
   "execution_count": 54,
   "metadata": {},
   "outputs": [
    {
     "data": {
      "image/png": "[encoded data removed]",
      "text/plain": [
       "<Figure size 515.889x500 with 1 Axes>"
      ]
     },
     "metadata": {},
     "output_type": "display_data"
    }
   ],
   "source": [
    "# Create a bar plot of the average number of helpful votes per review across\n",
    "# the 'Period of stay'\n",
    "sns.set(font_scale=1.3)\n",
    "sns.set_style(\"whitegrid\")\n",
    "sns.catplot(\n",
    "    x=\"Period of stay\",\n",
    "    y=\"Helpful votes\",\n",
    "    data=reviews,\n",
    "    kind=\"bar\"\n",
    ")\n",
    "\n",
    "plt.show()"
   ]
  },
  {
   "cell_type": "markdown",
   "metadata": {},
   "source": [
    "#### _Ordering categories_"
   ]
  },
  {
   "cell_type": "code",
   "execution_count": 55,
   "metadata": {},
   "outputs": [
    {
     "data": {
      "image/png": "[encoded data removed]",
      "text/plain": [
       "<Figure size 511x500 with 1 Axes>"
      ]
     },
     "metadata": {},
     "output_type": "display_data"
    }
   ],
   "source": [
    "# Create a bar chart\n",
    "sns.set(font_scale=0.9)\n",
    "sns.set_style(\"whitegrid\")\n",
    "sns.catplot(\n",
    "    x=\"User continent\",\n",
    "    y=\"Score\",\n",
    "    data=reviews,\n",
    "    kind=\"bar\"\n",
    ")\n",
    "plt.show()"
   ]
  },
  {
   "cell_type": "code",
   "execution_count": 56,
   "metadata": {},
   "outputs": [
    {
     "data": {
      "text/plain": [
       "User continent\n",
       "North America    295\n",
       "Europe           118\n",
       "Oceania           41\n",
       "Asia              36\n",
       "Africa             7\n",
       "South America      7\n",
       "Name: count, dtype: int64"
      ]
     },
     "execution_count": 56,
     "metadata": {},
     "output_type": "execute_result"
    }
   ],
   "source": [
    "# Print the frequency counts of 'User continent'\n",
    "reviews[\"User continent\"].value_counts()"
   ]
  },
  {
   "cell_type": "code",
   "execution_count": 57,
   "metadata": {},
   "outputs": [
    {
     "data": {
      "image/png": "[encoded data removed]",
      "text/plain": [
       "<Figure size 511x500 with 1 Axes>"
      ]
     },
     "metadata": {},
     "output_type": "display_data"
    }
   ],
   "source": [
    "# Convert the 'User continent' Series to categorical and create a bar plot\n",
    "reviews[\"User continent\"] = reviews[\"User continent\"].astype(\"category\")\n",
    "sns.catplot(\n",
    "    x=\"User continent\",\n",
    "    y=\"Score\",\n",
    "    data=reviews,\n",
    "    kind=\"bar\"\n",
    ")\n",
    "plt.show()"
   ]
  },
  {
   "cell_type": "code",
   "execution_count": 58,
   "metadata": {},
   "outputs": [
    {
     "data": {
      "text/plain": [
       "['North America', 'Europe', 'Oceania', 'Asia', 'Africa', 'South America']"
      ]
     },
     "execution_count": 58,
     "metadata": {},
     "output_type": "execute_result"
    }
   ],
   "source": [
    "# Create an ordered list of continents from highest to lowest number of reviews\n",
    "continent_categories = list(reviews[\"User continent\"].value_counts().index)\n",
    "continent_categories"
   ]
  },
  {
   "cell_type": "code",
   "execution_count": 59,
   "metadata": {},
   "outputs": [
    {
     "data": {
      "image/png": "[encoded data removed]",
      "text/plain": [
       "<Figure size 511x500 with 1 Axes>"
      ]
     },
     "metadata": {},
     "output_type": "display_data"
    }
   ],
   "source": [
    "# Reorder \"User continent\" using continent_categories and rerun the graphic\n",
    "reviews[\"User continent\"] = reviews[\"User continent\"]\\\n",
    "    .cat.reorder_categories(new_categories=continent_categories)\n",
    "\n",
    "sns.catplot(\n",
    "    x=\"User continent\",\n",
    "    y=\"Score\",\n",
    "    data=reviews,\n",
    "    kind=\"bar\"\n",
    ")\n",
    "plt.show()"
   ]
  },
  {
   "cell_type": "markdown",
   "metadata": {},
   "source": [
    "#### _Bar plot using hue_"
   ]
  },
  {
   "cell_type": "code",
   "execution_count": 60,
   "metadata": {},
   "outputs": [
    {
     "data": {
      "image/png": "[encoded data removed]",
      "text/plain": [
       "<Figure size 660.208x500 with 1 Axes>"
      ]
     },
     "metadata": {},
     "output_type": "display_data"
    }
   ],
   "source": [
    "# Split 'Score' using two categorical variables\n",
    "sns.set(font_scale=1.5)\n",
    "sns.set_style(\"darkgrid\")\n",
    "sns.catplot(\n",
    "    x=\"Casino\",\n",
    "    y=\"Score\",\n",
    "    data=reviews,\n",
    "    kind=\"bar\",\n",
    "    hue=\"Free internet\"\n",
    ")\n",
    "plt.show()"
   ]
  },
  {
   "cell_type": "code",
   "execution_count": 61,
   "metadata": {},
   "outputs": [
    {
     "data": {
      "image/png": "[encoded data removed]",
      "text/plain": [
       "<Figure size 628.25x500 with 1 Axes>"
      ]
     },
     "metadata": {},
     "output_type": "display_data"
    }
   ],
   "source": [
    "# Switch variables and create another plot\n",
    "sns.set(font_scale=1.5)\n",
    "sns.set_style(\"darkgrid\")\n",
    "sns.catplot(\n",
    "    x=\"Free internet\",\n",
    "    y=\"Score\",\n",
    "    data=reviews,\n",
    "    kind=\"bar\",\n",
    "    hue=\"Casino\"\n",
    ")\n",
    "plt.show()"
   ]
  },
  {
   "cell_type": "markdown",
   "metadata": {},
   "source": [
    "#### Point and count plots"
   ]
  },
  {
   "cell_type": "markdown",
   "metadata": {},
   "source": [
    "#### _Creating a point plot_"
   ]
  },
  {
   "cell_type": "code",
   "execution_count": 62,
   "metadata": {},
   "outputs": [
    {
     "data": {
      "image/png": "[encoded data removed]",
      "text/plain": [
       "<Figure size 628.25x500 with 1 Axes>"
      ]
     },
     "metadata": {},
     "output_type": "display_data"
    }
   ],
   "source": [
    "# Create a point plot to show the mean of 'Nr. reviews'\n",
    "sns.catplot(\n",
    "    x=\"Hotel stars\",\n",
    "    y=\"Nr. reviews\",\n",
    "    data=reviews,\n",
    "    kind=\"point\",\n",
    "    hue=\"Pool\",\n",
    "    dodge=True  # prevents plots from overlapping\n",
    ")\n",
    "plt.show()"
   ]
  },
  {
   "cell_type": "markdown",
   "metadata": {},
   "source": [
    "#### _Creating a count plot_"
   ]
  },
  {
   "cell_type": "code",
   "execution_count": 63,
   "metadata": {},
   "outputs": [
    {
     "data": {
      "image/png": "[encoded data removed]",
      "text/plain": [
       "<Figure size 664x500 with 1 Axes>"
      ]
     },
     "metadata": {},
     "output_type": "display_data"
    }
   ],
   "source": [
    "# Plot the 'Score' frequency across 'Traveler type'\n",
    "sns.set(font_scale=1.4)\n",
    "sns.set_style(\"darkgrid\")\n",
    "sns.catplot(\n",
    "    x=\"Score\",\n",
    "    data=reviews,\n",
    "    kind=\"count\",\n",
    "    hue=\"Traveler type\"\n",
    ")\n",
    "plt.show()"
   ]
  },
  {
   "cell_type": "markdown",
   "metadata": {},
   "source": [
    "#### Additional catplot() options"
   ]
  },
  {
   "cell_type": "markdown",
   "metadata": {},
   "source": [
    "#### _One visualization per group_"
   ]
  },
  {
   "cell_type": "code",
   "execution_count": 64,
   "metadata": {},
   "outputs": [
    {
     "data": {
      "image/png": "[encoded data removed]",
      "text/plain": [
       "<Figure size 1017.11x1000 with 4 Axes>"
      ]
     },
     "metadata": {},
     "output_type": "display_data"
    }
   ],
   "source": [
    "''' Create a catplot() using 'count' as the type of graphic.\n",
    "Count the number of reviews by 'Review weekday'.\n",
    "Create individual plots for each 'Period of stay'.\n",
    "Wrap the plots after every 2nd graphic.\n",
    "'''\n",
    "\n",
    "ax = sns.catplot(\n",
    "    x=\"Review weekday\",\n",
    "    col=\"Period of stay\",\n",
    "    col_wrap=2,\n",
    "    data=reviews,\n",
    "    kind=\"count\"\n",
    ")\n",
    "plt.show()"
   ]
  },
  {
   "cell_type": "markdown",
   "metadata": {},
   "source": [
    "#### _Updating categorical plots_"
   ]
  },
  {
   "cell_type": "code",
   "execution_count": 65,
   "metadata": {},
   "outputs": [
    {
     "data": {
      "image/png": "[encoded data removed]",
      "text/plain": [
       "<Figure size 664x500 with 1 Axes>"
      ]
     },
     "metadata": {},
     "output_type": "display_data"
    }
   ],
   "source": [
    "''' Create a plot to investigate if hotels with 'Free internet' receive\n",
    "higher reviews given the \"Traveler type'. Apply seaborn's \"hls\" color palette.\n",
    "'''\n",
    "ax = sns.catplot(\n",
    "    x=\"Free internet\",\n",
    "    y=\"Score\",\n",
    "    hue=\"Traveler type\",\n",
    "    data=reviews,\n",
    "    kind=\"bar\",\n",
    "    palette=sns.color_palette(\"hls\", 5)\n",
    ")\n",
    "\n",
    "''' Add a title, update the axis labels, and adjust the starting of the \n",
    "graphic to 93% of the full height of the visualization.\n",
    "'''\n",
    "\n",
    "ax.fig.suptitle(\"Hotel Score by Traveler Type and Free Internet Access\")\n",
    "ax.set_axis_labels(\"Free Internet\", \"Average Review Rating\")\n",
    "plt.subplots_adjust(top=.93)\n",
    "plt.show()"
   ]
  },
  {
   "cell_type": "markdown",
   "metadata": {},
   "source": [
    "### 4. Pitfalls and Encoding"
   ]
  },
  {
   "cell_type": "markdown",
   "metadata": {},
   "source": [
    "The used cars dataset contains information on over 38,000 used cars including the  \n",
    "manufacturer, model, and sale price."
   ]
  },
  {
   "cell_type": "code",
   "execution_count": 66,
   "metadata": {},
   "outputs": [
    {
     "name": "stdout",
     "output_type": "stream",
     "text": [
      "<class 'pandas.core.frame.DataFrame'>\n",
      "RangeIndex: 38531 entries, 0 to 38530\n",
      "Data columns (total 30 columns):\n",
      " #   Column             Non-Null Count  Dtype  \n",
      "---  ------             --------------  -----  \n",
      " 0   manufacturer_name  38531 non-null  object \n",
      " 1   model_name         38531 non-null  object \n",
      " 2   transmission       38531 non-null  object \n",
      " 3   color              38531 non-null  object \n",
      " 4   odometer_value     38531 non-null  int64  \n",
      " 5   year_produced      38531 non-null  int64  \n",
      " 6   engine_fuel        38531 non-null  object \n",
      " 7   engine_has_gas     38531 non-null  bool   \n",
      " 8   engine_type        38531 non-null  object \n",
      " 9   engine_capacity    38521 non-null  float64\n",
      " 10  body_type          38531 non-null  object \n",
      " 11  has_warranty       38531 non-null  bool   \n",
      " 12  state              38531 non-null  object \n",
      " 13  drivetrain         38531 non-null  object \n",
      " 14  price_usd          38531 non-null  float64\n",
      " 15  is_exchangeable    38531 non-null  bool   \n",
      " 16  location_region    38531 non-null  object \n",
      " 17  number_of_photos   38531 non-null  int64  \n",
      " 18  up_counter         38531 non-null  int64  \n",
      " 19  feature_0          38531 non-null  bool   \n",
      " 20  feature_1          38531 non-null  bool   \n",
      " 21  feature_2          38531 non-null  bool   \n",
      " 22  feature_3          38531 non-null  bool   \n",
      " 23  feature_4          38531 non-null  bool   \n",
      " 24  feature_5          38531 non-null  bool   \n",
      " 25  feature_6          38531 non-null  bool   \n",
      " 26  feature_7          38531 non-null  bool   \n",
      " 27  feature_8          38531 non-null  bool   \n",
      " 28  feature_9          38531 non-null  bool   \n",
      " 29  duration_listed    38531 non-null  int64  \n",
      "dtypes: bool(13), float64(2), int64(5), object(10)\n",
      "memory usage: 5.5+ MB\n"
     ]
    }
   ],
   "source": [
    "used_cars = pd.read_csv(\"datasets/used_cars.csv\")\n",
    "used_cars.info()\n"
   ]
  },
  {
   "cell_type": "markdown",
   "metadata": {},
   "source": [
    "#### Categorical pitfalls"
   ]
  },
  {
   "cell_type": "markdown",
   "metadata": {},
   "source": [
    "#### _Memory usage_"
   ]
  },
  {
   "cell_type": "code",
   "execution_count": 67,
   "metadata": {},
   "outputs": [
    {
     "name": "stdout",
     "output_type": "stream",
     "text": [
      "count     38531\n",
      "unique        3\n",
      "top       front\n",
      "freq      27746\n",
      "Name: drivetrain, dtype: object \n",
      "\n",
      "count      38531\n",
      "unique      1118\n",
      "top       Passat\n",
      "freq        1423\n",
      "Name: model_name, dtype: object\n"
     ]
    }
   ],
   "source": [
    "''' If each of the columns listed is converted to a categorical Series,\n",
    "which column will save the most memory?\n",
    "'''\n",
    "\n",
    "print(used_cars[\"drivetrain\"].describe(),\"\\n\")\n",
    "\n",
    "print(used_cars[\"model_name\"].describe())"
   ]
  },
  {
   "cell_type": "markdown",
   "metadata": {},
   "source": [
    "The \"drivetrain\" column will save the most memory as it only has  \n",
    "three different values while \"model_name\" has over 1,000."
   ]
  },
  {
   "cell_type": "markdown",
   "metadata": {},
   "source": [
    "#### _Overcoming pitfalls: string issues_"
   ]
  },
  {
   "cell_type": "markdown",
   "metadata": {},
   "source": [
    "The `.str` accessor object and the pandas `apply` method will always convert a  \n",
    "categorical Series back to an object"
   ]
  },
  {
   "cell_type": "code",
   "execution_count": 68,
   "metadata": {},
   "outputs": [
    {
     "name": "stdout",
     "output_type": "stream",
     "text": [
      "object\n"
     ]
    }
   ],
   "source": [
    "used_cars[\"color\"] = used_cars[\"color\"].astype(\"category\")\n",
    "used_cars[\"color\"] = used_cars[\"color\"].str.upper()\n",
    "print(used_cars[\"color\"].dtype)"
   ]
  },
  {
   "cell_type": "markdown",
   "metadata": {},
   "source": [
    "#### _Overcoming pitfalls: using NumPy arrays_"
   ]
  },
  {
   "cell_type": "code",
   "execution_count": 69,
   "metadata": {},
   "outputs": [
    {
     "data": {
      "text/plain": [
       "371788"
      ]
     },
     "execution_count": 69,
     "metadata": {},
     "output_type": "execute_result"
    }
   ],
   "source": [
    "# Convert column to categorical\n",
    "used_cars[\"number_of_photos\"] = used_cars[\"number_of_photos\"].astype(\"category\")\n",
    "\n",
    "''' used_cars[\"number_of_photos\"].sum() \n",
    "\n",
    "will return TypeError: Categorical cannot perform the operation sum\n",
    "'''\n",
    "\n",
    "# To use NumPy array methods, first convert the data type\n",
    "used_cars[\"number_of_photos\"].astype(int).sum()\n"
   ]
  },
  {
   "cell_type": "markdown",
   "metadata": {},
   "source": [
    "#### Label encoding"
   ]
  },
  {
   "cell_type": "markdown",
   "metadata": {},
   "source": [
    "#### _Create a label encoding and map_"
   ]
  },
  {
   "cell_type": "markdown",
   "metadata": {},
   "source": [
    "Create a label encoding for the `color` column to save on memory and improve performance.  \n",
    "Reading and writing files that use codes instead of strings can save a lot of time."
   ]
  },
  {
   "cell_type": "code",
   "execution_count": 70,
   "metadata": {},
   "outputs": [
    {
     "data": {
      "text/plain": [
       "color\n",
       "BLACK     7705\n",
       "SILVER    6852\n",
       "BLUE      5802\n",
       "WHITE     4212\n",
       "GREY      3751\n",
       "RED       2925\n",
       "GREEN     2760\n",
       "OTHER     2688\n",
       "BROWN      886\n",
       "VIOLET     463\n",
       "YELLOW     303\n",
       "ORANGE     184\n",
       "Name: count, dtype: int64"
      ]
     },
     "execution_count": 70,
     "metadata": {},
     "output_type": "execute_result"
    }
   ],
   "source": [
    "# Convert to categorical and print the frequency table\n",
    "used_cars[\"color\"] = used_cars[\"color\"].astype(\"category\")\n",
    "used_cars[\"color\"].value_counts()"
   ]
  },
  {
   "cell_type": "code",
   "execution_count": 71,
   "metadata": {},
   "outputs": [
    {
     "name": "stdout",
     "output_type": "stream",
     "text": [
      "        color  color_code\n",
      "0      SILVER           8\n",
      "1        BLUE           1\n",
      "2         RED           7\n",
      "3        BLUE           1\n",
      "4       BLACK           0\n",
      "...       ...         ...\n",
      "38526  SILVER           8\n",
      "38527    BLUE           1\n",
      "38528    BLUE           1\n",
      "38529   BLACK           0\n",
      "38530  SILVER           8\n",
      "\n",
      "[38531 rows x 2 columns]\n"
     ]
    }
   ],
   "source": [
    "# Create a label encoding for the variable 'color' \n",
    "used_cars[\"color_code\"] = used_cars[\"color\"].cat.codes\n",
    "\n",
    "print(used_cars[[\"color\", \"color_code\"]])"
   ]
  },
  {
   "cell_type": "code",
   "execution_count": 72,
   "metadata": {},
   "outputs": [
    {
     "name": "stdout",
     "output_type": "stream",
     "text": [
      "{8: 'SILVER', 1: 'BLUE', 7: 'RED', 0: 'BLACK', 4: 'GREY', 6: 'OTHER', 2: 'BROWN', 10: 'WHITE', 3: 'GREEN', 9: 'VIOLET', 5: 'ORANGE', 11: 'YELLOW'}\n"
     ]
    }
   ],
   "source": [
    "# Create a color map using the codes and categories objects\n",
    "codes = used_cars[\"color_code\"]\n",
    "categories = used_cars[\"color\"]\n",
    "color_map = dict(zip(codes, categories))\n",
    "\n",
    "# Print the new color map\n",
    "print(color_map)"
   ]
  },
  {
   "cell_type": "markdown",
   "metadata": {},
   "source": [
    "#### _Using saved mappings_"
   ]
  },
  {
   "cell_type": "code",
   "execution_count": 73,
   "metadata": {},
   "outputs": [
    {
     "data": {
      "text/html": [
       "<div>\n",
       "<style scoped>\n",
       "    .dataframe tbody tr th:only-of-type {\n",
       "        vertical-align: middle;\n",
       "    }\n",
       "\n",
       "    .dataframe tbody tr th {\n",
       "        vertical-align: top;\n",
       "    }\n",
       "\n",
       "    .dataframe thead th {\n",
       "        text-align: right;\n",
       "    }\n",
       "</style>\n",
       "<table border=\"1\" class=\"dataframe\">\n",
       "  <thead>\n",
       "    <tr style=\"text-align: right;\">\n",
       "      <th></th>\n",
       "      <th>color_code</th>\n",
       "    </tr>\n",
       "  </thead>\n",
       "  <tbody>\n",
       "    <tr>\n",
       "      <th>0</th>\n",
       "      <td>8</td>\n",
       "    </tr>\n",
       "    <tr>\n",
       "      <th>1</th>\n",
       "      <td>1</td>\n",
       "    </tr>\n",
       "    <tr>\n",
       "      <th>2</th>\n",
       "      <td>7</td>\n",
       "    </tr>\n",
       "    <tr>\n",
       "      <th>3</th>\n",
       "      <td>1</td>\n",
       "    </tr>\n",
       "    <tr>\n",
       "      <th>4</th>\n",
       "      <td>0</td>\n",
       "    </tr>\n",
       "  </tbody>\n",
       "</table>\n",
       "</div>"
      ],
      "text/plain": [
       "   color_code\n",
       "0           8\n",
       "1           1\n",
       "2           7\n",
       "3           1\n",
       "4           0"
      ]
     },
     "execution_count": 73,
     "metadata": {},
     "output_type": "execute_result"
    }
   ],
   "source": [
    "# Preview the 'color_code' column\n",
    "used_cars[[\"color_code\"]].head()\n"
   ]
  },
  {
   "cell_type": "code",
   "execution_count": 74,
   "metadata": {},
   "outputs": [
    {
     "data": {
      "text/plain": [
       "0        SILVER\n",
       "1          BLUE\n",
       "2           RED\n",
       "3          BLUE\n",
       "4         BLACK\n",
       "          ...  \n",
       "38526    SILVER\n",
       "38527      BLUE\n",
       "38528      BLUE\n",
       "38529     BLACK\n",
       "38530    SILVER\n",
       "Name: color_code, Length: 38531, dtype: object"
      ]
     },
     "execution_count": 74,
     "metadata": {},
     "output_type": "execute_result"
    }
   ],
   "source": [
    "# Map the color codes back to their categorical names\n",
    "used_cars[\"color_code\"].map(color_map)"
   ]
  },
  {
   "cell_type": "markdown",
   "metadata": {},
   "source": [
    "#### _Creating a Boolean encoding_"
   ]
  },
  {
   "cell_type": "code",
   "execution_count": 75,
   "metadata": {},
   "outputs": [
    {
     "data": {
      "text/plain": [
       "manufacturer_name\n",
       "Volkswagen    4243\n",
       "Opel          2759\n",
       "BMW           2610\n",
       "Ford          2566\n",
       "Renault       2493\n",
       "              ... \n",
       "Cadillac        43\n",
       "Pontiac         42\n",
       "ЗАЗ             42\n",
       "Lincoln         36\n",
       "Great Wall      36\n",
       "Name: count, Length: 55, dtype: int64"
      ]
     },
     "execution_count": 75,
     "metadata": {},
     "output_type": "execute_result"
    }
   ],
   "source": [
    "# Print frequency table\n",
    "used_cars[\"manufacturer_name\"].value_counts()"
   ]
  },
  {
   "cell_type": "code",
   "execution_count": 76,
   "metadata": {},
   "outputs": [
    {
     "data": {
      "text/plain": [
       "is_volkswagen\n",
       "0    34288\n",
       "1     4243\n",
       "Name: count, dtype: int64"
      ]
     },
     "execution_count": 76,
     "metadata": {},
     "output_type": "execute_result"
    }
   ],
   "source": [
    "# Create a Boolean column, with 0s and 1s, if manufacturer name is 'Volkswagen'\n",
    "used_cars[\"is_volkswagen\"] = np.where(\n",
    "    used_cars[\"manufacturer_name\"].str.contains(\"Volkswagen\", regex=False), 1, 0\n",
    ")\n",
    "\n",
    "# Print the frequency table of the new column\n",
    "used_cars[\"is_volkswagen\"].value_counts()"
   ]
  },
  {
   "cell_type": "markdown",
   "metadata": {},
   "source": [
    "#### One-hot encoding"
   ]
  },
  {
   "cell_type": "markdown",
   "metadata": {},
   "source": [
    "One-hot encoding is a process used to convert categorical data into a binary (0 or 1)  \n",
    "representation. \n",
    "\n",
    "It is commonly used in machine learning and data preprocessing because  \n",
    "many algorithms require numerical input and cannot work directly with categorical data."
   ]
  },
  {
   "cell_type": "markdown",
   "metadata": {},
   "source": [
    "#### _One-hot encoding specific columns_"
   ]
  },
  {
   "cell_type": "code",
   "execution_count": 77,
   "metadata": {},
   "outputs": [
    {
     "data": {
      "text/plain": [
       "(38531, 85)"
      ]
     },
     "execution_count": 77,
     "metadata": {},
     "output_type": "execute_result"
    }
   ],
   "source": [
    "''' Create a new dataset, \"used_cars_simple\", with one-hot encoding for the columns:  \n",
    "\"manufacturer_name\" and \"transmission\".\n",
    "Set the prefix of all new columns to \"dummy\".\n",
    "'''\n",
    "used_cars = pd.read_csv(\"datasets/used_cars.csv\")\n",
    "used_cars_simple = pd.get_dummies(\n",
    "    used_cars, columns=[\"manufacturer_name\", \"transmission\"], prefix=\"dummy\"\n",
    ")\n",
    "\n",
    "used_cars_simple.shape"
   ]
  }
 ],
 "metadata": {
  "kernelspec": {
   "display_name": "Python 3",
   "language": "python",
   "name": "python3"
  },
  "language_info": {
   "codemirror_mode": {
    "name": "ipython",
    "version": 3
   },
   "file_extension": ".py",
   "mimetype": "text/x-python",
   "name": "python",
   "nbconvert_exporter": "python",
   "pygments_lexer": "ipython3",
   "version": "3.12.4"
  }
 },
 "nbformat": 4,
 "nbformat_minor": 2
}
